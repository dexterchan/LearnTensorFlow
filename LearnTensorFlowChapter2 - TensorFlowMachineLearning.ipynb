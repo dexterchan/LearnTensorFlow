{
 "cells": [
  {
   "cell_type": "code",
   "execution_count": 1,
   "metadata": {
    "collapsed": true
   },
   "outputs": [],
   "source": [
    "import tensorflow as tf\n",
    "import numpy as np"
   ]
  },
  {
   "cell_type": "code",
   "execution_count": 59,
   "metadata": {},
   "outputs": [],
   "source": [
    "G1 = tf.Graph()\n",
    "with G1.as_default():\n",
    "    a = tf.constant(5, name=\"input_a\")\n",
    "    b = tf.constant(3, name=\"input_b\")\n",
    "    c = tf.multiply(a,b,name=\"mul_c\")\n",
    "    d=tf.subtract(a,b,name=\"sub_d\")\n",
    "    e = tf.divide(c,d,\"div_e\")"
   ]
  },
  {
   "cell_type": "code",
   "execution_count": 60,
   "metadata": {},
   "outputs": [],
   "source": [
    "with tf.Session(graph=G1) as sess:\n",
    "    result=(sess.run(e))\n",
    "    #r_c = sess.run(c)\n",
    "    writer = tf.summary.FileWriter('./my_graph',sess.graph)\n",
    "    writer.close()"
   ]
  },
  {
   "cell_type": "code",
   "execution_count": 61,
   "metadata": {},
   "outputs": [
    {
     "name": "stdout",
     "output_type": "stream",
     "text": [
      "7.5\n"
     ]
    }
   ],
   "source": [
    "print(result)"
   ]
  },
  {
   "cell_type": "code",
   "execution_count": 5,
   "metadata": {},
   "outputs": [],
   "source": [
    "G2 = tf.Graph()\n",
    "with G2.as_default():\n",
    "    a = tf.constant([[5,3],[1,2]], name=\"input_a\")\n",
    "    b = tf.reduce_prod(a,0,name=\"prod_b\")\n",
    "    c = tf.reduce_sum(a,0,name=\"sum_c\")\n",
    "    d = tf.add(b,c,name=\"add_d\")"
   ]
  },
  {
   "cell_type": "code",
   "execution_count": 6,
   "metadata": {},
   "outputs": [
    {
     "name": "stdout",
     "output_type": "stream",
     "text": [
      "[11 11]\n"
     ]
    }
   ],
   "source": [
    "with tf.Session(graph=G2) as sess:\n",
    "    result=sess.run(d)\n",
    "print(result)"
   ]
  },
  {
   "cell_type": "code",
   "execution_count": 7,
   "metadata": {},
   "outputs": [],
   "source": [
    "#test numoy\n",
    "t_0 = np.array(50, dtype=np.int32)\n",
    "t_1 = np.array([2,3,4], dtype=np.int64)\n",
    "t_2 = np.array([2,3,4], dtype=np.int64)"
   ]
  },
  {
   "cell_type": "code",
   "execution_count": 8,
   "metadata": {},
   "outputs": [
    {
     "data": {
      "text/plain": [
       "numpy.int64"
      ]
     },
     "execution_count": 8,
     "metadata": {},
     "output_type": "execute_result"
    }
   ],
   "source": [
    "type(t_1[0])"
   ]
  },
  {
   "cell_type": "code",
   "execution_count": 9,
   "metadata": {},
   "outputs": [
    {
     "name": "stdout",
     "output_type": "stream",
     "text": [
      "[ True  True  True]\n",
      "[False False False]\n",
      "[array([ True,  True,  True], dtype=bool), array([False, False, False], dtype=bool)]\n"
     ]
    }
   ],
   "source": [
    "G3 = tf.Graph()\n",
    "with G3.as_default():\n",
    "    v1  = tf.constant(t_1)\n",
    "    v2 =tf.constant(t_2)\n",
    "with tf.Session(graph=G3) as sess:\n",
    "    #print(sess.run(v1==v2)) not workable\n",
    "    print(sess.run(tf.equal(v1,v2)))\n",
    "    print (sess.run (v1>v2))\n",
    "    #run the two operation as a list\n",
    "    print ( sess.run ([ tf.equal(v1,v2), v1>v2        ] ) )"
   ]
  },
  {
   "cell_type": "code",
   "execution_count": 10,
   "metadata": {},
   "outputs": [
    {
     "name": "stdout",
     "output_type": "stream",
     "text": [
      "with original run:\n",
      "21\n",
      "with replacement of a\n",
      "45\n"
     ]
    }
   ],
   "source": [
    "#Feed dictionary\n",
    "#useful when inserting dummy value during debugging\n",
    "\n",
    "G4 = tf.Graph()\n",
    "with G4.as_default():\n",
    "    a = tf.add(2,5)\n",
    "    b = tf.multiply(a,3)\n",
    "    \n",
    "#setup a dictionary to replace the calculation in \"a\"\n",
    "replace_dict = {a:15}\n",
    "\n",
    "with tf.Session(graph=G4) as sess:\n",
    "    print (\"with original run:\")\n",
    "    print(sess.run(b))\n",
    "    print (\"with replacement of a\")\n",
    "    print(sess.run(b,feed_dict=replace_dict))\n",
    "    "
   ]
  },
  {
   "cell_type": "code",
   "execution_count": 11,
   "metadata": {},
   "outputs": [
    {
     "name": "stdout",
     "output_type": "stream",
     "text": [
      "7\n"
     ]
    }
   ],
   "source": [
    "#demo of interactive session, use wisely....\n",
    "sess =tf.Session(graph=G4) \n",
    "with sess.as_default():\n",
    "    print(a.eval())\n",
    "sess.close()\n"
   ]
  },
  {
   "cell_type": "code",
   "execution_count": 12,
   "metadata": {},
   "outputs": [],
   "source": [
    "#placeholder demo\n",
    "G5 = tf.Graph()\n",
    "with G5.as_default():\n",
    "    a=tf.placeholder(tf.int32,shape=[None],name=\"my_input\")\n",
    "    b=tf.reduce_prod(a,name=\"prod_b\")\n",
    "    c = tf.reduce_sum(a,name=\"sum_c\")\n",
    "    #finish off the graph\n",
    "    d=tf.add(b,c,name=\"add_d\")\n"
   ]
  },
  {
   "cell_type": "code",
   "execution_count": 13,
   "metadata": {},
   "outputs": [
    {
     "name": "stdout",
     "output_type": "stream",
     "text": [
      "{<tf.Tensor 'my_input:0' shape=(?,) dtype=int32>: array([4, 4, 2, 4, 4, 4])}\n"
     ]
    }
   ],
   "source": [
    "input_dict = {a:np.random.randint(1,6,size=(6))}\n",
    "print (input_dict)"
   ]
  },
  {
   "cell_type": "code",
   "execution_count": 14,
   "metadata": {},
   "outputs": [
    {
     "name": "stdout",
     "output_type": "stream",
     "text": [
      "2070\n",
      "[array([6], dtype=int32), array([], dtype=int32), array([], dtype=int32), array([], dtype=int32)]\n",
      "[2048, 22]\n"
     ]
    }
   ],
   "source": [
    "with tf.Session(graph=G5) as sess:\n",
    "    print(sess.run(d,feed_dict=input_dict))\n",
    "    print(sess.run([tf.shape(a), tf.shape(b),tf.shape(c),tf.shape(d)],feed_dict=input_dict))\n",
    "    print(sess.run([b,c],feed_dict=input_dict))"
   ]
  },
  {
   "cell_type": "code",
   "execution_count": 15,
   "metadata": {},
   "outputs": [
    {
     "name": "stdout",
     "output_type": "stream",
     "text": [
      "{<tf.Tensor 'my_input:0' shape=(?,) dtype=int32>: array([2, 5, 1, 2, 4, 1])}\n"
     ]
    }
   ],
   "source": [
    "input_dict = {a:np.random.randint(1,6,size=(6))}\n",
    "print (input_dict)"
   ]
  },
  {
   "cell_type": "code",
   "execution_count": 16,
   "metadata": {},
   "outputs": [
    {
     "data": {
      "text/plain": [
       "array([2, 5, 1, 2, 4, 1])"
      ]
     },
     "execution_count": 16,
     "metadata": {},
     "output_type": "execute_result"
    }
   ],
   "source": [
    "input_dict[a]"
   ]
  },
  {
   "cell_type": "code",
   "execution_count": 39,
   "metadata": {},
   "outputs": [],
   "source": [
    "#Variable\n",
    "G6 = tf.Graph()\n",
    "#No values below 2 std dev or above 2 std dev produced away from mean\n",
    "with G6.as_default():\n",
    "    my_var=tf.Variable(3,name=\"myvar\")\n",
    "    my_var_2 = my_var.assign(my_var*2)\n",
    "    trunRandom =  tf.truncated_normal([2,2],mean=2.0,stddev=2)\n",
    "    random_var = tf.Variable(trunRandom)\n",
    "    init = tf.global_variables_initializer()"
   ]
  },
  {
   "cell_type": "code",
   "execution_count": 49,
   "metadata": {},
   "outputs": [
    {
     "name": "stdout",
     "output_type": "stream",
     "text": [
      "6\n",
      "12\n",
      "13\n",
      "26\n",
      "6\n"
     ]
    }
   ],
   "source": [
    "with tf.Session(graph=G6) as sess:\n",
    "    sess.run(init)\n",
    "    print(sess.run(my_var_2))\n",
    "    print(sess.run(my_var_2))\n",
    "    print(sess.run(my_var.assign_add(1)))\n",
    "    print(sess.run(my_var_2))\n",
    "    #reset variable\n",
    "    sess.run(init)\n",
    "    print(sess.run(my_var_2))"
   ]
  },
  {
   "cell_type": "code",
   "execution_count": 54,
   "metadata": {},
   "outputs": [],
   "source": [
    "#name scope\n",
    "G7=tf.Graph()\n",
    "with G7.as_default():\n",
    "    with tf.name_scope(\"Scope_A\"):\n",
    "        a=tf.add(1,2,name=\"A_add\")\n",
    "        b=tf.multiply(a,3,name=\"A_mul\")\n",
    "    with tf.name_scope(\"Scope_B\"):\n",
    "        c=tf.add(4,5,name=\"B_add\")\n",
    "        d=tf.multiply(c,6,name=\"B_mul\")\n",
    "    e=tf.add(b,d,name=\"output\")\n",
    "    "
   ]
  },
  {
   "cell_type": "code",
   "execution_count": 55,
   "metadata": {
    "collapsed": true
   },
   "outputs": [],
   "source": [
    "writer = tf.summary.FileWriter('./name_scope_1',graph=G7)\n",
    "writer.close()"
   ]
  },
  {
   "cell_type": "code",
   "execution_count": 63,
   "metadata": {},
   "outputs": [],
   "source": [
    "#named scope more complicated\n",
    "G8=tf.Graph()\n",
    "with G8.as_default():\n",
    "    in_1=tf.placeholder(tf.float32,shape=[],name='input_a')\n",
    "    in_2=tf.placeholder(tf.float32,shape=[],name='input_b')\n",
    "    const = tf.constant(3,dtype=tf.float32,name=\"static_value\")\n",
    "    with tf.name_scope(\"Transformation\"):\n",
    "        with tf.name_scope(\"A\"):\n",
    "            A_mul=tf.multiply(in_1,const)\n",
    "            A_out = tf.subtract(A_mul,in_1)\n",
    "            \n",
    "        with tf.name_scope(\"B\"):\n",
    "            B_mul=tf.multiply(in_2,const)\n",
    "            B_out = tf.subtract(B_mul,in_2)\n",
    "        with tf.name_scope(\"C\"):\n",
    "            C_div = tf.divide(A_out,B_out)\n",
    "            C_out = tf.add(C_div,const)\n",
    "        with tf.name_scope(\"D\"):\n",
    "            D_div = tf.divide(B_out,A_out)\n",
    "            D_out = tf.add(D_div,const)\n",
    "            out=tf.maximum(C_out,D_out)"
   ]
  },
  {
   "cell_type": "code",
   "execution_count": 64,
   "metadata": {
    "collapsed": true
   },
   "outputs": [],
   "source": [
    "writer = tf.summary.FileWriter(\"./name_scope_2\",graph=G8)\n",
    "writer.close()"
   ]
  },
  {
   "cell_type": "code",
   "execution_count": null,
   "metadata": {
    "collapsed": true
   },
   "outputs": [],
   "source": []
  }
 ],
 "metadata": {
  "kernelspec": {
   "display_name": "Python 3",
   "language": "python",
   "name": "python3"
  },
  "language_info": {
   "codemirror_mode": {
    "name": "ipython",
    "version": 3
   },
   "file_extension": ".py",
   "mimetype": "text/x-python",
   "name": "python",
   "nbconvert_exporter": "python",
   "pygments_lexer": "ipython3",
   "version": "3.6.2"
  }
 },
 "nbformat": 4,
 "nbformat_minor": 2
}
