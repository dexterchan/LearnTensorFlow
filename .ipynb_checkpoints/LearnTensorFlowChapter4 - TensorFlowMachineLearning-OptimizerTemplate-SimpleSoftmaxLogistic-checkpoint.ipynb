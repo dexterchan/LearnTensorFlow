{
 "cells": [
  {
   "cell_type": "code",
   "execution_count": null,
   "metadata": {
    "collapsed": true
   },
   "outputs": [],
   "source": [
    "import tensorflow as tf\n",
    "import numpy as np\n",
    "import os\n"
   ]
  },
  {
   "cell_type": "code",
   "execution_count": null,
   "metadata": {
    "collapsed": true
   },
   "outputs": [],
   "source": [
    "#in interactive mode, there is no __file__ defined\n",
    "#os.getcwd() is a workaround\n",
    "modelpath=os.path.dirname(__file__) if('__file__') in dir() else os.getcwd()"
   ]
  },
  {
   "cell_type": "code",
   "execution_count": null,
   "metadata": {
    "collapsed": true
   },
   "outputs": [],
   "source": [
    "def read_csv(batch_size,file_name,record_defaults):\n",
    "    filename_queue = tf.train.string_input_producer ( \n",
    "        [os.path.join(modelpath,file_name)])\n",
    "    reader = tf.TextLineReader(skip_header_lines=1)\n",
    "    key,value=reader.read(filename_queue)\n",
    "    #decode-csv will convert a Tensor from type string (the text line) \n",
    "    #in a tuple of tensor columns with the specified defaults, \n",
    "    #which also sets the data type for each column\n",
    "    decoded=tf.decode_csv(value,record_defaults=record_defaults)\n",
    "    \n",
    "    #batch actually reads the file and loads \"batch_size\" rows in a single tensor\n",
    "    \n",
    "    return tf.train.shuffle_batch(decoded,batch_size=batch_size,\n",
    "                                 capacity=batch_size*50, \n",
    "                                 min_after_dequeue=batch_size)\n",
    "    "
   ]
  },
  {
   "cell_type": "code",
   "execution_count": null,
   "metadata": {},
   "outputs": [],
   "source": [
    "#demo of logistic to answer Yes/No question\n",
    "#initialize variables/model parameters\n",
    "W=tf.Variable(tf.zeros([4,3]),dtype=tf.float32,name=\"weights\")\n",
    "b = tf.Variable(tf.zeros([3],name=\"bias\",dtype=tf.float32))"
   ]
  },
  {
   "cell_type": "code",
   "execution_count": null,
   "metadata": {
    "collapsed": true
   },
   "outputs": [],
   "source": [
    "def inputs():\n",
    "    batch_size=100\n",
    "    sepal_length,sepal_width,petal_length,petal_width,label = \\\n",
    "     read_csv(batch_size,'irisData/iris.data', [[0.0], [0.0], [0.0], [0.0], [\"\"]])\n",
    "    #convert class names to a 0 based class index\n",
    "    label_number = tf.to_int32(tf.argmax(tf.to_int32(tf.pack([\n",
    "        tf.equal(label, [\"Iris-setosa\"]),\n",
    "        tf.equal(label, [\"Iris-versicolor\"]),\n",
    "        tf.equal(label, [\"Iris-virginica\"])\n",
    "    ])), 0))\n",
    "    \n",
    "    #pack all features in a single matrix\n",
    "    #transpose to a matrix with one example per row\n",
    "    #and each feature dimension per column\n",
    "    features = tf.transpose(tf.stack(\n",
    "    [sepal_length,sepal_width,petal_length,petal_width]\n",
    "    ))\n",
    "    \n",
    "    return features, label_number"
   ]
  },
  {
   "cell_type": "code",
   "execution_count": null,
   "metadata": {
    "collapsed": true
   },
   "outputs": [],
   "source": [
    "def combine_inputs(X):\n",
    "    return tf.matmul(X,W)+b\n",
    "#define the training loop operations\n",
    "def inference(X):\n",
    "    #compute the inference model over data X and return the result\n",
    "    #return tf.sigmoid(combine_inputs(X))\n",
    "    return tf.nn.softmax(combine_inputs(X))\n",
    "def loss(X,Y):\n",
    "    #compute loss over training data X and expected output Y\n",
    "    Y_predicted = inference(X)\n",
    "    \n",
    "    #applying cross entropy reduction\n",
    "    err=tf.reduce_mean(tf.nn.sparse_softmax_cross_entropy_with_logits(logits=combine_inputs(X),labels=Y))\n",
    "    return err\n",
    "\n",
    "def train(total_loss):\n",
    "    #train/adjust model parameters according to computed total loss\n",
    "    learning_rate = 0.01\n",
    "    optimizer = tf.train.GradientDescentOptimizer(learning_rate).minimize(total_loss)\n",
    "    return optimizer"
   ]
  },
  {
   "cell_type": "code",
   "execution_count": 1,
   "metadata": {
    "collapsed": true
   },
   "outputs": [],
   "source": [
    "def evaluate(sess,X,Y):\n",
    "    #evaluate the resulting trained model\n",
    "    #softmax output a column matrix, axis=1\n",
    "    pre=inference(X)\n",
    "    predicted = tf.cast( tf.argmax(  inference(X) ,1),tf.int32 )\n",
    "    result=sess.run(tf.reduce_mean(tf.cast (tf.equal(predicted,Y),tf.float32)))\n",
    "    print(\"softmax dim:{0}\".format(tf.shape(pre)))\n",
    "    return"
   ]
  },
  {
   "cell_type": "code",
   "execution_count": null,
   "metadata": {
    "collapsed": true
   },
   "outputs": [],
   "source": [
    "#Create a saver\n",
    "saver = tf.train.Saver()"
   ]
  },
  {
   "cell_type": "code",
   "execution_count": null,
   "metadata": {},
   "outputs": [],
   "source": [
    "#Launch the graph in a session, setup boilerplate\n",
    "with tf.Session() as sess:\n",
    "    sess.run(tf.global_variables_initializer())\n",
    "    X,Y = inputs()\n",
    "    total_loss = loss(X,Y)\n",
    "    train_op = train(total_loss)\n",
    "    coord = tf.train.Coordinator()\n",
    "    threads=tf.train.start_queue_runners(sess=sess,coord=coord)\n",
    "    \n",
    "    initial_step=0\n",
    "    \n",
    "    #verify if we don't have a checkpoint saved already\n",
    "    ckpt = tf.train.get_checkpoint_state(modelpath)\n",
    "    \n",
    "    if ckpt and ckpt.model_checkpoint_path:\n",
    "        #Restores from checkpoints\n",
    "        saver.restore(sess,ckpt.model_checkpoint_path)\n",
    "        initial_step = int(ckpt.model_checkpoint_path.rsplit('-',1)[1])\n",
    "    \n",
    "    #actual training loop\n",
    "    training_steps=2000\n",
    "    \n",
    "    for step in range(initial_step,training_steps):\n",
    "        sess.run([train_op])\n",
    "        if step%1000 ==0:\n",
    "            saver.save(sess,\"my-model\",global_step=step)\n",
    "        #for debugging and learning purposes, see how the loss gets decremented through training steps\n",
    "        if step%10 ==0:\n",
    "            print(\"loss: {0}\".format(sess.run([total_loss])))\n",
    "            evaluate(sess,X,Y)\n",
    "            \n",
    "    coord.request_stop()\n",
    "    coord.join(threads)\n",
    "    saver.save(sess,\"my-model\",global_step=training_steps)\n",
    "    sess.close()"
   ]
  },
  {
   "cell_type": "code",
   "execution_count": null,
   "metadata": {},
   "outputs": [],
   "source": []
  },
  {
   "cell_type": "code",
   "execution_count": null,
   "metadata": {
    "collapsed": true
   },
   "outputs": [],
   "source": []
  }
 ],
 "metadata": {
  "kernelspec": {
   "display_name": "Python 3",
   "language": "python",
   "name": "python3"
  },
  "language_info": {
   "codemirror_mode": {
    "name": "ipython",
    "version": 3
   },
   "file_extension": ".py",
   "mimetype": "text/x-python",
   "name": "python",
   "nbconvert_exporter": "python",
   "pygments_lexer": "ipython3",
   "version": "3.6.2"
  }
 },
 "nbformat": 4,
 "nbformat_minor": 2
}
