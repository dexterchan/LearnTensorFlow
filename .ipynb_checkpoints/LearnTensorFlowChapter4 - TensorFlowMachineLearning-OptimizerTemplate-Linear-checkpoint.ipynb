{
 "cells": [
  {
   "cell_type": "code",
   "execution_count": 1,
   "metadata": {
    "collapsed": true
   },
   "outputs": [],
   "source": [
    "import tensorflow as tf\n",
    "import numpy as np\n",
    "import os"
   ]
  },
  {
   "cell_type": "code",
   "execution_count": 2,
   "metadata": {
    "collapsed": true
   },
   "outputs": [],
   "source": [
    "#initialize variables/model parameters\n",
    "W=tf.Variable(tf.zeros([2,1]),dtype=tf.float32,name=\"weights\")\n",
    "b = tf.Variable(0,name=\"bias\",dtype=tf.float32)\n",
    "\n",
    "\n",
    "#define the training loop operations\n",
    "def inference(X):\n",
    "    #compute the inference model over data X and return the result\n",
    "    return tf.matmul(X,W)+b\n",
    "def loss(X,Y):\n",
    "    #compute loss over training data X and expected output Y\n",
    "    Y_predicted = inference(X)\n",
    "    err = tf.reduce_sum(tf.squared_difference(Y,Y_predicted))\n",
    "    return err\n",
    "def inputs():\n",
    "    #read/generate input training data X and expected outputs Y\n",
    "    weight_age = [[84, 46], [73, 20], [65, 52], [70, 30], [76, 57], [69, 25], [63, 28], [72, 36], [79, 57], [75, 44], [27, 24], [89, 31], [65, 52], [57, 23], [59, 60], [69, 48], [60, 34], [79, 51], [75, 50], [82, 34], [59, 46], [67, 23], [85,37], [55, 40], [63, 30]]\n",
    "    blood_fat_content = [354, 190, 405, 263, 451, 302, 288, 385, 402, 365, 209, 290, 346, 254, 395, 434, 220, 374, 308, 220, 311, 181, 274, 303, 244]\n",
    "    \n",
    "    return tf.to_float(weight_age),tf.to_float(blood_fat_content)\n",
    "def train(total_loss):\n",
    "    #train/adjust model parameters according to computed total loss\n",
    "    learning_rate = 0.0000001\n",
    "    optimizer = tf.train.GradientDescentOptimizer(learning_rate).minimize(total_loss)\n",
    "    return optimizer\n",
    "def evaluate(sess,X,Y):\n",
    "    #evaluate the resulting trained model\n",
    "    print( sess.run(inference ([  [80.,25.]   ])))\n",
    "    print( sess.run(inference ([  [65.,25.]   ])))\n",
    "    return\n",
    "    \n",
    "        "
   ]
  },
  {
   "cell_type": "code",
   "execution_count": 3,
   "metadata": {
    "collapsed": true
   },
   "outputs": [],
   "source": [
    "#Create a saver\n",
    "saver = tf.train.Saver()"
   ]
  },
  {
   "cell_type": "code",
   "execution_count": 4,
   "metadata": {},
   "outputs": [
    {
     "ename": "NameError",
     "evalue": "name 'train' is not defined",
     "output_type": "error",
     "traceback": [
      "\u001b[0;31m---------------------------------------------------------------------------\u001b[0m",
      "\u001b[0;31mNameError\u001b[0m                                 Traceback (most recent call last)",
      "\u001b[0;32m<ipython-input-4-448c8a90dbe5>\u001b[0m in \u001b[0;36m<module>\u001b[0;34m()\u001b[0m\n\u001b[1;32m      4\u001b[0m     \u001b[0mX\u001b[0m\u001b[0;34m,\u001b[0m\u001b[0mY\u001b[0m \u001b[0;34m=\u001b[0m \u001b[0minputs\u001b[0m\u001b[0;34m(\u001b[0m\u001b[0;34m)\u001b[0m\u001b[0;34m\u001b[0m\u001b[0m\n\u001b[1;32m      5\u001b[0m     \u001b[0mtotal_loss\u001b[0m \u001b[0;34m=\u001b[0m \u001b[0mloss\u001b[0m\u001b[0;34m(\u001b[0m\u001b[0mX\u001b[0m\u001b[0;34m,\u001b[0m\u001b[0mY\u001b[0m\u001b[0;34m)\u001b[0m\u001b[0;34m\u001b[0m\u001b[0m\n\u001b[0;32m----> 6\u001b[0;31m     \u001b[0mtrain_op\u001b[0m \u001b[0;34m=\u001b[0m \u001b[0mtrain\u001b[0m\u001b[0;34m(\u001b[0m\u001b[0mtotal_loss\u001b[0m\u001b[0;34m)\u001b[0m\u001b[0;34m\u001b[0m\u001b[0m\n\u001b[0m\u001b[1;32m      7\u001b[0m     \u001b[0mcoord\u001b[0m \u001b[0;34m=\u001b[0m \u001b[0mtf\u001b[0m\u001b[0;34m.\u001b[0m\u001b[0mtrain\u001b[0m\u001b[0;34m.\u001b[0m\u001b[0mCoordinator\u001b[0m\u001b[0;34m(\u001b[0m\u001b[0;34m)\u001b[0m\u001b[0;34m\u001b[0m\u001b[0m\n\u001b[1;32m      8\u001b[0m     \u001b[0mthreads\u001b[0m\u001b[0;34m=\u001b[0m\u001b[0mtf\u001b[0m\u001b[0;34m.\u001b[0m\u001b[0mtrain\u001b[0m\u001b[0;34m.\u001b[0m\u001b[0mstart_queue_runners\u001b[0m\u001b[0;34m(\u001b[0m\u001b[0msess\u001b[0m\u001b[0;34m=\u001b[0m\u001b[0msess\u001b[0m\u001b[0;34m,\u001b[0m\u001b[0mcoord\u001b[0m\u001b[0;34m=\u001b[0m\u001b[0mcoord\u001b[0m\u001b[0;34m)\u001b[0m\u001b[0;34m\u001b[0m\u001b[0m\n",
      "\u001b[0;31mNameError\u001b[0m: name 'train' is not defined"
     ]
    }
   ],
   "source": [
    "#Launch the graph in a session, setup boilerplate\n",
    "with tf.Session() as sess:\n",
    "    sess.run(tf.global_variables_initializer())\n",
    "    X,Y = inputs()\n",
    "    total_loss = loss(X,Y)\n",
    "    train_op = train(total_loss)\n",
    "    coord = tf.train.Coordinator()\n",
    "    threads=tf.train.start_queue_runners(sess=sess,coord=coord)\n",
    "    \n",
    "    initial_step=0\n",
    "    \n",
    "    #verify if we don't have a checkpoint saved already\n",
    "    #in interactive mode, there is no __file__ defined\n",
    "    #os.getcwd() is a workaround\n",
    "    modelpath=os.path.dirname(__file__) if('__file__') in dir() else os.getcwd()\n",
    "    ckpt = tf.train.get_checkpoint_state(modelpath)\n",
    "    \n",
    "    if ckpt and ckpt.model_checkpoint_path:\n",
    "        #Restores from checkpoints\n",
    "        saver.restore(sess,chkpt.model_checkpoint_path)\n",
    "        initial_step = int(ckpt.model_checkpoint_path.rsplit('-',1)[1])\n",
    "    \n",
    "    #actual training loop\n",
    "    training_steps=1000\n",
    "    \n",
    "    for step in range(initial_step,training_steps):\n",
    "        sess.run([train_op])\n",
    "        if step%1000 ==0:\n",
    "            saver.save(sess,\"my-model\",global_step=step)\n",
    "        #for debugging and learning purposes, see how the loss gets decremented through training steps\n",
    "        if step%10 ==0:\n",
    "            print(\"loss: {0}\".format(sess.run([total_loss])))\n",
    "            evaluate(sess,X,Y)\n",
    "            \n",
    "    coord.request_step()\n",
    "    coord.join(threads)\n",
    "    saver.save(sess,\"my-model\",global_step=training_steps)\n",
    "    sess.close()"
   ]
  },
  {
   "cell_type": "code",
   "execution_count": null,
   "metadata": {
    "collapsed": true
   },
   "outputs": [],
   "source": []
  }
 ],
 "metadata": {
  "kernelspec": {
   "display_name": "Python 3",
   "language": "python",
   "name": "python3"
  },
  "language_info": {
   "codemirror_mode": {
    "name": "ipython",
    "version": 3
   },
   "file_extension": ".py",
   "mimetype": "text/x-python",
   "name": "python",
   "nbconvert_exporter": "python",
   "pygments_lexer": "ipython3",
   "version": "3.6.2"
  }
 },
 "nbformat": 4,
 "nbformat_minor": 2
}
