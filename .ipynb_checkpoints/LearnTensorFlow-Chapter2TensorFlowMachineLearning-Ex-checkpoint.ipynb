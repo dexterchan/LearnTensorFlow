{
 "cells": [
  {
   "cell_type": "code",
   "execution_count": 1,
   "metadata": {
    "collapsed": true
   },
   "outputs": [],
   "source": [
    "import tensorflow as tf\n",
    "import numpy as np"
   ]
  },
  {
   "cell_type": "code",
   "execution_count": 2,
   "metadata": {
    "collapsed": true
   },
   "outputs": [],
   "source": [
    "graph = tf.Graph()"
   ]
  },
  {
   "cell_type": "code",
   "execution_count": 3,
   "metadata": {},
   "outputs": [],
   "source": [
    "with graph.as_default():\n",
    "    with tf.name_scope(\"variables\"):\n",
    "        #Variable to keep track of how many times the graph has been run\n",
    "        global_step = tf.Variable(0,dtype=tf.int32,trainable=False, name=\"global_step\")\n",
    "        #Variable that keep track of the sum of all output values over time:\n",
    "        total_output=tf.Variable(0.0, dtype=tf.float32,trainable=False, name=\"total_output\")\n"
   ]
  },
  {
   "cell_type": "code",
   "execution_count": 4,
   "metadata": {},
   "outputs": [],
   "source": [
    "with graph.as_default():\n",
    "    with tf.name_scope(\"transformation\"):\n",
    "        #separate input layer\n",
    "        with tf.name_scope(\"input\"):\n",
    "            #create input placeholder - takes in a vector\n",
    "            a = tf.placeholder(tf.float32, shape=[None],name=\"input_placeholder_a\")\n",
    "        #separate middle layer\n",
    "        with tf.name_scope(\"intermediate_layer\"):\n",
    "            b=tf.reduce_prod(a,name=\"product_b\")\n",
    "            c=tf.reduce_sum(a,name=\"sum_c\")\n",
    "        with tf.name_scope(\"output\"):\n",
    "            output = tf.add(b,c,name=\"output\")\n",
    "    with tf.name_scope(\"update\"):\n",
    "            #increments the total_output variable by the latest output\n",
    "            update_total=total_output.assign_add(output)\n",
    "            #inrement the global step\n",
    "            increment_step = global_step.assign_add(1)\n",
    "        "
   ]
  },
  {
   "cell_type": "code",
   "execution_count": 5,
   "metadata": {},
   "outputs": [],
   "source": [
    "with graph.as_default():\n",
    "    with tf.name_scope(\"summaries\"):\n",
    "        avg = tf.divide(update_total,tf.cast(increment_step,tf.float32),name=\"average\")\n",
    "        #Create summaries for output node\n",
    "        tf.summary.scalar(tensor=output, name=\"output_summary\")\n",
    "        tf.summary.scalar(tensor=update_total,name=\"total_output_summary\")\n",
    "        tf.summary.scalar(tensor=avg,name=\"average_summary\")"
   ]
  },
  {
   "cell_type": "code",
   "execution_count": 6,
   "metadata": {
    "collapsed": true
   },
   "outputs": [],
   "source": [
    "with graph.as_default():\n",
    "    cst=tf.constant(1)\n",
    "    with tf.name_scope(\"global_ops\"):\n",
    "        init = tf.global_variables_initializer()\n",
    "        merged_summary=tf.summary.merge_all()"
   ]
  },
  {
   "cell_type": "code",
   "execution_count": 7,
   "metadata": {
    "collapsed": true
   },
   "outputs": [],
   "source": [
    "sess = tf.Session(graph=graph)\n",
    "writer=tf.summary.FileWriter(\"./improved_graph\",graph)\n",
    "sess.run(init)"
   ]
  },
  {
   "cell_type": "code",
   "execution_count": 8,
   "metadata": {
    "collapsed": true
   },
   "outputs": [],
   "source": [
    "def run_graph(input_tensor):\n",
    "    feed_dict = {a:input_tensor}\n",
    "    \n",
    "    _,step,summary=sess.run([output,increment_step,merged_summary],feed_dict=feed_dict)\n",
    "    #_,step,summary=sess.run([output,cst,merged_summary],feed_dict=feed_dict)\n",
    "    writer.add_summary(summary,global_step=step)"
   ]
  },
  {
   "cell_type": "code",
   "execution_count": 9,
   "metadata": {},
   "outputs": [],
   "source": [
    "run_graph([2,8])\n",
    "run_graph([3,1,3,3])\n",
    "run_graph([8])\n",
    "run_graph([1,2,3])\n",
    "run_graph([11,4])\n",
    "run_graph([4,1])\n",
    "run_graph([7,3,1])\n",
    "run_graph([6,3])\n",
    "run_graph([0,2])\n",
    "run_graph([4,5,6])\n",
    "writer.flush()\n",
    "writer.close()\n",
    "sess.close()"
   ]
  },
  {
   "cell_type": "code",
   "execution_count": null,
   "metadata": {
    "collapsed": true
   },
   "outputs": [],
   "source": []
  }
 ],
 "metadata": {
  "kernelspec": {
   "display_name": "Python 3",
   "language": "python",
   "name": "python3"
  },
  "language_info": {
   "codemirror_mode": {
    "name": "ipython",
    "version": 3
   },
   "file_extension": ".py",
   "mimetype": "text/x-python",
   "name": "python",
   "nbconvert_exporter": "python",
   "pygments_lexer": "ipython3",
   "version": "3.6.2"
  }
 },
 "nbformat": 4,
 "nbformat_minor": 2
}
