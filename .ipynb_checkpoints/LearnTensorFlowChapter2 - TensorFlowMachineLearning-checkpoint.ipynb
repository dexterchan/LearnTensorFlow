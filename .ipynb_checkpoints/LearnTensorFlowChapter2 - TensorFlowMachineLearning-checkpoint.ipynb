{
 "cells": [
  {
   "cell_type": "code",
   "execution_count": 1,
   "metadata": {
    "collapsed": true
   },
   "outputs": [],
   "source": [
    "import tensorflow as tf\n",
    "import numpy as np"
   ]
  },
  {
   "cell_type": "code",
   "execution_count": 4,
   "metadata": {},
   "outputs": [],
   "source": [
    "G1 = tf.Graph()\n",
    "with G1.as_default():\n",
    "    a = tf.constant(5, name=\"input_a\")\n",
    "    b = tf.constant(3, name=\"input_b\")\n",
    "    c = tf.multiply(a,b,name=\"mul_c\")\n",
    "    d=tf.subtract(a,b,name=\"sub_d\")\n",
    "    e = tf.truediv(c,d,\"div_e\")"
   ]
  },
  {
   "cell_type": "code",
   "execution_count": 5,
   "metadata": {},
   "outputs": [],
   "source": [
    "with tf.Session(graph=G1) as sess:\n",
    "    result=(sess.run(e))\n",
    "    #r_c = sess.run(c)\n",
    "    writer = tf.summary.FileWriter('./my_graph',sess.graph)\n",
    "    writer.close()"
   ]
  },
  {
   "cell_type": "code",
   "execution_count": 6,
   "metadata": {},
   "outputs": [
    {
     "name": "stdout",
     "output_type": "stream",
     "text": [
      "7.5\n"
     ]
    }
   ],
   "source": [
    "print(result)"
   ]
  },
  {
   "cell_type": "code",
   "execution_count": 7,
   "metadata": {},
   "outputs": [],
   "source": [
    "G2 = tf.Graph()\n",
    "with G2.as_default():\n",
    "    a = tf.constant([[5,3],[1,2]], name=\"input_a\")\n",
    "    b = tf.reduce_prod(a,0,name=\"prod_b\")\n",
    "    c = tf.reduce_sum(a,0,name=\"sum_c\")\n",
    "    d = tf.add(b,c,name=\"add_d\")"
   ]
  },
  {
   "cell_type": "code",
   "execution_count": 8,
   "metadata": {},
   "outputs": [
    {
     "name": "stdout",
     "output_type": "stream",
     "text": [
      "[11 11]\n"
     ]
    }
   ],
   "source": [
    "with tf.Session(graph=G2) as sess:\n",
    "    result=sess.run(d)\n",
    "print(result)"
   ]
  },
  {
   "cell_type": "code",
   "execution_count": 9,
   "metadata": {},
   "outputs": [],
   "source": [
    "#test numoy\n",
    "t_0 = np.array(50, dtype=np.int32)\n",
    "t_1 = np.array([2,3,4], dtype=np.int64)\n",
    "t_2 = np.array([2,3,4], dtype=np.int64)"
   ]
  },
  {
   "cell_type": "code",
   "execution_count": 10,
   "metadata": {},
   "outputs": [
    {
     "data": {
      "text/plain": [
       "numpy.int64"
      ]
     },
     "execution_count": 10,
     "metadata": {},
     "output_type": "execute_result"
    }
   ],
   "source": [
    "type(t_1[0])"
   ]
  },
  {
   "cell_type": "code",
   "execution_count": 12,
   "metadata": {},
   "outputs": [
    {
     "name": "stdout",
     "output_type": "stream",
     "text": [
      "[ True  True  True]\n",
      "[False False False]\n",
      "[array([ True,  True,  True], dtype=bool), array([False, False, False], dtype=bool)]\n"
     ]
    }
   ],
   "source": [
    "G3 = tf.Graph()\n",
    "with G3.as_default():\n",
    "    v1  = tf.constant(t_1)\n",
    "    v2 =tf.constant(t_2)\n",
    "with tf.Session(graph=G3) as sess:\n",
    "    #print(sess.run(v1==v2)) not workable\n",
    "    print(sess.run(tf.equal(v1,v2)))\n",
    "    print (sess.run (v1>v2))\n",
    "    #run the two operation as a list\n",
    "    print ( sess.run ([ tf.equal(v1,v2), v1>v2        ] ) )"
   ]
  },
  {
   "cell_type": "code",
   "execution_count": 13,
   "metadata": {},
   "outputs": [
    {
     "name": "stdout",
     "output_type": "stream",
     "text": [
      "with original run:\n",
      "21\n",
      "with replacement of a\n",
      "45\n"
     ]
    }
   ],
   "source": [
    "#Feed dictionary\n",
    "#useful when inserting dummy value during debugging\n",
    "\n",
    "G4 = tf.Graph()\n",
    "with G4.as_default():\n",
    "    a = tf.add(2,5)\n",
    "    b = tf.multiply(a,3)\n",
    "    \n",
    "#setup a dictionary to replace the calculation in \"a\"\n",
    "replace_dict = {a:15}\n",
    "\n",
    "with tf.Session(graph=G4) as sess:\n",
    "    print (\"with original run:\")\n",
    "    print(sess.run(b))\n",
    "    print (\"with replacement of a\")\n",
    "    print(sess.run(b,feed_dict=replace_dict))\n",
    "    "
   ]
  },
  {
   "cell_type": "code",
   "execution_count": null,
   "metadata": {
    "collapsed": true
   },
   "outputs": [],
   "source": []
  }
 ],
 "metadata": {
  "kernelspec": {
   "display_name": "Python 3",
   "language": "python",
   "name": "python3"
  },
  "language_info": {
   "codemirror_mode": {
    "name": "ipython",
    "version": 3
   },
   "file_extension": ".py",
   "mimetype": "text/x-python",
   "name": "python",
   "nbconvert_exporter": "python",
   "pygments_lexer": "ipython3",
   "version": "3.6.2"
  }
 },
 "nbformat": 4,
 "nbformat_minor": 2
}
