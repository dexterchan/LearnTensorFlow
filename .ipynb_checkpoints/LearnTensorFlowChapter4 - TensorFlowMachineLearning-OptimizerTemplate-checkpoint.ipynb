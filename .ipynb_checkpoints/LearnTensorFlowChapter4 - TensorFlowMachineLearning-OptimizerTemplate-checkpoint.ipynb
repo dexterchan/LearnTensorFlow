{
 "cells": [
  {
   "cell_type": "code",
   "execution_count": 2,
   "metadata": {
    "collapsed": true
   },
   "outputs": [],
   "source": [
    "import tensorflow as tf\n",
    "import numpy as np\n",
    "import os"
   ]
  },
  {
   "cell_type": "code",
   "execution_count": null,
   "metadata": {},
   "outputs": [],
   "source": [
    "#initialize variables/model parameters\n",
    "\n",
    "#define the training loop operations\n",
    "def inference(X):\n",
    "    #compute the inference model over data X and return the result\n",
    "    return\n",
    "def loss(X,Y):\n",
    "    #compute loss over training data X and expected output Y\n",
    "    return\n",
    "def inputs():\n",
    "    #read/generate input training data X and expected outputs Y\n",
    "    return\n",
    "def train(total_loss):\n",
    "    #train/adjust model parameters according to computed total loss\n",
    "    return\n",
    "def evaluate(sess,X,Y):\n",
    "    #evaluate the resulting trained model\n",
    "    return\n",
    "    \n",
    "        "
   ]
  },
  {
   "cell_type": "code",
   "execution_count": null,
   "metadata": {},
   "outputs": [],
   "source": [
    "#Create a saver\n",
    "saver = tf.train.Saver()"
   ]
  },
  {
   "cell_type": "code",
   "execution_count": null,
   "metadata": {},
   "outputs": [],
   "source": [
    "#Launch the graph in a session, setup boilerplate\n",
    "with tf.Session() as sess:\n",
    "    sess.run(tf.global_variables_initializer())\n",
    "    X,Y = inputs()\n",
    "    total_loss = loss(X,Y)\n",
    "    train_op = train(total_loss)\n",
    "    coord = tf.train.Coordinator()\n",
    "    threads=tf.train.start_queue_runners(sess=sess,coord=coord)\n",
    "    \n",
    "    initial_step=0\n",
    "    \n",
    "    #verify if we don't have a checkpoint saved already\n",
    "    #in interactive mode, there is no __file__ defined\n",
    "    #os.getcwd() is a workaround\n",
    "    modelpath=os.path.dirname(__file__) if('__file__') in dir() else os.getcwd()\n",
    "    ckpt = tf.train.get_checkpoint_state(modelpath)\n",
    "    \n",
    "    if ckpt and ckpt.model_checkpoint_path:\n",
    "        #Restores from checkpoints\n",
    "        saver.restore(sess,ckpt.model_checkpoint_path)\n",
    "        initial_step = int(ckpt.model_checkpoint_path.rsplit('-',1)[1])\n",
    "    \n",
    "    #actual training loop\n",
    "    training_steps=1000\n",
    "    \n",
    "    for step in range(initial_step,training_steps):\n",
    "        sess.run([train_op])\n",
    "        if step%1000 ==0:\n",
    "            saver.save(sess,\"my=model\",global_step=step)\n",
    "        #for debugging and learning purposes, see how the loss gets decremented through training steps\n",
    "        if step%10 ==0:\n",
    "            print(\"loss: {0}\".format(sess.run([total_loss])))\n",
    "            evaluate(sess,X,Y)\n",
    "            \n",
    "    coord.request_stop()\n",
    "    coord.join(threads)\n",
    "    saver.save(sess,\"my=model\",global_step=training_steps)\n",
    "    sess.close()"
   ]
  },
  {
   "cell_type": "code",
   "execution_count": null,
   "metadata": {
    "collapsed": true
   },
   "outputs": [],
   "source": []
  }
 ],
 "metadata": {
  "kernelspec": {
   "display_name": "Python 3",
   "language": "python",
   "name": "python3"
  },
  "language_info": {
   "codemirror_mode": {
    "name": "ipython",
    "version": 3
   },
   "file_extension": ".py",
   "mimetype": "text/x-python",
   "name": "python",
   "nbconvert_exporter": "python",
   "pygments_lexer": "ipython3",
   "version": "3.6.2"
  }
 },
 "nbformat": 4,
 "nbformat_minor": 2
}
