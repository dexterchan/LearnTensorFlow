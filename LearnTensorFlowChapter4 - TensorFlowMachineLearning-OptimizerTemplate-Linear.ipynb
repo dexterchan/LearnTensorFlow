{
 "cells": [
  {
   "cell_type": "code",
   "execution_count": 1,
   "metadata": {
    "collapsed": true
   },
   "outputs": [],
   "source": [
    "import tensorflow as tf\n",
    "import numpy as np\n",
    "import os"
   ]
  },
  {
   "cell_type": "code",
   "execution_count": 2,
   "metadata": {
    "collapsed": true
   },
   "outputs": [],
   "source": [
    "#initialize variables/model parameters\n",
    "W=tf.Variable(tf.zeros([2,1]),dtype=tf.float32,name=\"weights\")\n",
    "b = tf.Variable(0,name=\"bias\",dtype=tf.float32)\n",
    "\n",
    "\n",
    "#define the training loop operations\n",
    "def inference(X):\n",
    "    #compute the inference model over data X and return the result\n",
    "    return tf.matmul(X,W)+b\n",
    "def loss(X,Y):\n",
    "    #compute loss over training data X and expected output Y\n",
    "    Y_predicted = inference(X)\n",
    "    err = tf.reduce_sum(tf.squared_difference(Y,Y_predicted))\n",
    "    return err\n",
    "def inputs():\n",
    "    #read/generate input training data X and expected outputs Y\n",
    "    weight_age = [[84, 46], [73, 20], [65, 52], [70, 30], [76, 57], [69, 25], [63, 28], [72, 36], [79, 57], [75, 44], [27, 24], [89, 31], [65, 52], [57, 23], [59, 60], [69, 48], [60, 34], [79, 51], [75, 50], [82, 34], [59, 46], [67, 23], [85,37], [55, 40], [63, 30]]\n",
    "    blood_fat_content = [354, 190, 405, 263, 451, 302, 288, 385, 402, 365, 209, 290, 346, 254, 395, 434, 220, 374, 308, 220, 311, 181, 274, 303, 244]\n",
    "    \n",
    "    return tf.to_float(weight_age),tf.to_float(blood_fat_content)\n",
    "def train(total_loss):\n",
    "    #train/adjust model parameters according to computed total loss\n",
    "    learning_rate = 0.0000001\n",
    "    optimizer = tf.train.GradientDescentOptimizer(learning_rate).minimize(total_loss)\n",
    "    return optimizer\n",
    "def evaluate(sess,X,Y):\n",
    "    #evaluate the resulting trained model\n",
    "    print( sess.run(inference ([  [80.,25.]   ])))\n",
    "    print( sess.run(inference ([  [65.,25.]   ])))\n",
    "    return\n",
    "    \n",
    "        "
   ]
  },
  {
   "cell_type": "code",
   "execution_count": 3,
   "metadata": {
    "collapsed": true
   },
   "outputs": [],
   "source": [
    "#Create a saver\n",
    "saver = tf.train.Saver()"
   ]
  },
  {
   "cell_type": "code",
   "execution_count": 4,
   "metadata": {},
   "outputs": [],
   "source": [
    "#Launch the graph in a session, setup boilerplate\n",
    "with tf.Session() as sess:\n",
    "    sess.run(tf.global_variables_initializer())\n",
    "    X,Y = inputs()\n",
    "    total_loss = loss(X,Y)\n",
    "    train_op = train(total_loss)\n",
    "    coord = tf.train.Coordinator()\n",
    "    threads=tf.train.start_queue_runners(sess=sess,coord=coord)\n",
    "    \n",
    "    initial_step=0\n",
    "    \n",
    "    #verify if we don't have a checkpoint saved already\n",
    "    #in interactive mode, there is no __file__ defined\n",
    "    #os.getcwd() is a workaround\n",
    "    modelpath=os.path.dirname(__file__) if('__file__') in dir() else os.getcwd()\n",
    "    ckpt = tf.train.get_checkpoint_state(modelpath)\n",
    "    \n",
    "    if ckpt and ckpt.model_checkpoint_path:\n",
    "        #Restores from checkpoints\n",
    "        saver.restore(sess,ckpt.model_checkpoint_path)\n",
    "        initial_step = int(ckpt.model_checkpoint_path.rsplit('-',1)[1])\n",
    "    \n",
    "    #actual training loop\n",
    "    training_steps=1000\n",
    "    \n",
    "    for step in range(initial_step,training_steps):\n",
    "        sess.run([train_op])\n",
    "        if step%1000 ==0:\n",
    "            saver.save(sess,\"my-model\",global_step=step)\n",
    "        #for debugging and learning purposes, see how the loss gets decremented through training steps\n",
    "        if step%10 ==0:\n",
    "            print(\"loss: {0}\".format(sess.run([total_loss])))\n",
    "            evaluate(sess,X,Y)\n",
    "            \n",
    "    coord.request_stop()\n",
    "    coord.join(threads)\n",
    "    saver.save(sess,\"my-model\",global_step=training_steps)\n",
    "    sess.close()"
   ]
  },
  {
   "cell_type": "code",
   "execution_count": 5,
   "metadata": {
    "collapsed": true
   },
   "outputs": [],
   "source": [
    "X,Y = inputs()"
   ]
  },
  {
   "cell_type": "code",
   "execution_count": 6,
   "metadata": {},
   "outputs": [
    {
     "data": {
      "text/plain": [
       "tensorflow.python.framework.ops.Tensor"
      ]
     },
     "execution_count": 6,
     "metadata": {},
     "output_type": "execute_result"
    }
   ],
   "source": [
    "type(Y)"
   ]
  },
  {
   "cell_type": "code",
   "execution_count": 7,
   "metadata": {},
   "outputs": [
    {
     "name": "stdout",
     "output_type": "stream",
     "text": [
      "Tensor(\"ToFloat_3:0\", shape=(25,), dtype=float32)\n"
     ]
    }
   ],
   "source": [
    "print(Y)"
   ]
  },
  {
   "cell_type": "code",
   "execution_count": 11,
   "metadata": {},
   "outputs": [],
   "source": [
    "with tf.Session() as sess:\n",
    "    inputxy=(sess.run(X))\n",
    "    z= sess.run(Y)\n",
    "    "
   ]
  },
  {
   "cell_type": "code",
   "execution_count": 12,
   "metadata": {},
   "outputs": [],
   "source": [
    "import matplotlib.pyplot as plt\n",
    "from mpl_toolkits.mplot3d.axes3d import Axes3D, get_test_data\n",
    "dx,dy=np.meshgrid(inputxy[:,0],inputxy[:,1])"
   ]
  },
  {
   "cell_type": "code",
   "execution_count": 28,
   "metadata": {},
   "outputs": [],
   "source": [
    "fig = plt.figure(figsize=plt.figaspect(0.5))"
   ]
  },
  {
   "cell_type": "code",
   "execution_count": 21,
   "metadata": {
    "collapsed": true
   },
   "outputs": [],
   "source": [
    "ax = fig.add_subplot(1, 1, 1, projection='3d')"
   ]
  },
  {
   "cell_type": "code",
   "execution_count": 22,
   "metadata": {},
   "outputs": [
    {
     "data": {
      "text/plain": [
       "<mpl_toolkits.mplot3d.art3d.Line3DCollection at 0x7fe1b4115518>"
      ]
     },
     "execution_count": 22,
     "metadata": {},
     "output_type": "execute_result"
    }
   ],
   "source": [
    "ax.plot_wireframe(dx, dy, z, rstride=10, cstride=10)"
   ]
  },
  {
   "cell_type": "code",
   "execution_count": 29,
   "metadata": {},
   "outputs": [],
   "source": [
    "ax = fig.add_subplot(1, 1, 1, projection='3d')"
   ]
  },
  {
   "cell_type": "code",
   "execution_count": 30,
   "metadata": {},
   "outputs": [],
   "source": [
    "from matplotlib import cm\n",
    "surf = ax.plot_surface(dx, dy, z, rstride=1, cstride=1, cmap=cm.coolwarm,\n",
    "                       linewidth=0, antialiased=False)"
   ]
  },
  {
   "cell_type": "code",
   "execution_count": 31,
   "metadata": {},
   "outputs": [
    {
     "data": {
      "image/png": "[encoded data removed]",
      "text/plain": [
       "<matplotlib.figure.Figure at 0x7fe199fb2550>"
      ]
     },
     "metadata": {},
     "output_type": "display_data"
    }
   ],
   "source": [
    "plt.show()"
   ]
  },
  {
   "cell_type": "code",
   "execution_count": null,
   "metadata": {
    "collapsed": true
   },
   "outputs": [],
   "source": []
  }
 ],
 "metadata": {
  "kernelspec": {
   "display_name": "Python 3",
   "language": "python",
   "name": "python3"
  },
  "language_info": {
   "codemirror_mode": {
    "name": "ipython",
    "version": 3
   },
   "file_extension": ".py",
   "mimetype": "text/x-python",
   "name": "python",
   "nbconvert_exporter": "python",
   "pygments_lexer": "ipython3",
   "version": "3.6.2"
  }
 },
 "nbformat": 4,
 "nbformat_minor": 2
}
